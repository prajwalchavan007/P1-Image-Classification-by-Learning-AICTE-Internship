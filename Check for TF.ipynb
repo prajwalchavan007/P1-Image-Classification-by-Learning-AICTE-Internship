{
 "cells": [
  {
   "cell_type": "code",
   "execution_count": null,
   "id": "961a1e72-38d7-4fce-af84-d2bf2a32d9b3",
   "metadata": {},
   "outputs": [],
   "source": [
    "import tensorflow as tf\n",
    "import numpy as np\n",
    "import matplotlib as mlt"
   ]
  },
  {
   "cell_type": "code",
   "execution_count": null,
   "id": "91fd7f42-63c7-4e00-aa16-654b36e1626d",
   "metadata": {},
   "outputs": [],
   "source": [
    "tf.__version__"
   ]
  },
  {
   "cell_type": "code",
   "execution_count": null,
   "id": "ccdb0ee6-f5bd-4c0a-a05e-5f307eed366e",
   "metadata": {},
   "outputs": [],
   "source": [
    "np.__version__"
   ]
  },
  {
   "cell_type": "code",
   "execution_count": null,
   "id": "ebf35996-8c5b-4f99-8f6d-60c2ce409462",
   "metadata": {},
   "outputs": [],
   "source": [
    "mlt.__version__"
   ]
  },
  {
   "cell_type": "code",
   "execution_count": null,
   "id": "8c1e7636-f955-4ac3-ab1c-ddd8de3f0a6e",
   "metadata": {},
   "outputs": [],
   "source": []
  }
 ],
 "metadata": {
  "kernelspec": {
   "display_name": "Python 3 (ipykernel)",
   "language": "python",
   "name": "python3"
  },
  "language_info": {
   "codemirror_mode": {
    "name": "ipython",
    "version": 3
   },
   "file_extension": ".py",
   "mimetype": "text/x-python",
   "name": "python",
   "nbconvert_exporter": "python",
   "pygments_lexer": "ipython3",
   "version": "3.9.20"
  }
 },
 "nbformat": 4,
 "nbformat_minor": 5
}
